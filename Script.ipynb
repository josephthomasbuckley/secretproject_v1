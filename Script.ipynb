{
 "cells": [
  {
   "cell_type": "code",
   "execution_count": 1,
   "metadata": {},
   "outputs": [],
   "source": [
    "import pandas as pd \n",
    "from rymscraper import rymscraper, RymUrl"
   ]
  },
  {
   "cell_type": "code",
   "execution_count": 5,
   "metadata": {},
   "outputs": [],
   "source": [
    "network = rymscraper.RymNetwork()\n",
    "list_album_infos = network.get_albums_infos(names=[\"My Bloody Valentine - Loveless\",\"Radiohead - Kid A\"])\n",
    "df = pd.DataFrame(list_album_infos)"
   ]
  },
  {
   "cell_type": "code",
   "execution_count": 6,
   "metadata": {},
   "outputs": [
    {
     "name": "stdout",
     "output_type": "stream",
     "text": [
      "       Name               Artist   Type          Released  \\\n",
      "0  Loveless  My Bloody Valentine  Album  11 November 1991   \n",
      "1     Kid A            Radiohead  Album    3 October 2000   \n",
      "\n",
      "                        Recorded  \\\n",
      "0           February 1989 - 1991   \n",
      "1  November 1997 - 18 April 2000   \n",
      "\n",
      "                                          RYM Rating                   Ranked  \\\n",
      "0  4.25\\n                  \\n/ 5.00.5\\n\\n        ...  #1 for 1991, #9 overall   \n",
      "1  4.26\\n                  \\n/ 5.00.5\\n\\n        ...  #1 for 2000, #7 overall   \n",
      "\n",
      "                                              Genres  \\\n",
      "0    Shoegaze, Noise Pop\\nDream Pop, Neo-Psychedelia   \n",
      "1  Art Rock, Electronic, Experimental Rock\\nAmbie...   \n",
      "\n",
      "                                         Descriptors Language  \\\n",
      "0  noisy,  ethereal,  atmospheric,  romantic,  hy...  English   \n",
      "1  cold,  melancholic,  futuristic,  atmospheric,...  English   \n",
      "\n",
      "                                       Track listing  \\\n",
      "0  [Only Shallow, Loomer, Touched, To Here Knows ...   \n",
      "1  [Everything in Its Right Place, Kid A, The Nat...   \n",
      "\n",
      "                                         Colorscheme  \n",
      "0  [#cb9a95, #b13219, #e23577, #8f3539, #de3e32, ...  \n",
      "1  [#888485, #adab9c, #c1beaf, #a69794, #94929f, ...  \n"
     ]
    }
   ],
   "source": [
    "print(df)"
   ]
  }
 ],
 "metadata": {
  "kernelspec": {
   "display_name": "Python 3",
   "language": "python",
   "name": "python3"
  },
  "language_info": {
   "codemirror_mode": {
    "name": "ipython",
    "version": 3
   },
   "file_extension": ".py",
   "mimetype": "text/x-python",
   "name": "python",
   "nbconvert_exporter": "python",
   "pygments_lexer": "ipython3",
   "version": "3.11.9"
  }
 },
 "nbformat": 4,
 "nbformat_minor": 2
}
